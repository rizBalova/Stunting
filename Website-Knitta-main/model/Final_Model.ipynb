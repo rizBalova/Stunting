{
  "nbformat": 4,
  "nbformat_minor": 0,
  "metadata": {
    "colab": {
      "provenance": []
    },
    "kernelspec": {
      "name": "python3",
      "display_name": "Python 3"
    },
    "language_info": {
      "name": "python"
    }
  },
  "cells": [
    {
      "cell_type": "markdown",
      "source": [
        "# **DATA CLEANING**"
      ],
      "metadata": {
        "id": "84-wJRtoZbw5"
      }
    },
    {
      "cell_type": "code",
      "source": [
        "import pandas as pd\n",
        "import numpy as np\n",
        "from sklearn.preprocessing import StandardScaler"
      ],
      "metadata": {
        "id": "O0454GB-Y9TR"
      },
      "execution_count": null,
      "outputs": []
    },
    {
      "cell_type": "code",
      "execution_count": null,
      "metadata": {
        "id": "6Mrt9u0yTrSV"
      },
      "outputs": [],
      "source": [
        "# Memuat data dari file CSV\n",
        "data = pd.read_csv('dataset_stunting.csv')"
      ]
    },
    {
      "cell_type": "code",
      "source": [
        "# Menampilkan beberapa baris pertama dari data\n",
        "print(data.head())"
      ],
      "metadata": {
        "colab": {
          "base_uri": "https://localhost:8080/"
        },
        "id": "9z5H7XarZCv1",
        "outputId": "b4135a4e-90a7-4c23-c049-a0d0848989ad"
      },
      "execution_count": null,
      "outputs": [
        {
          "output_type": "stream",
          "name": "stdout",
          "text": [
            "   Sum of Konsumsi_protein  Sum of BCG  \\\n",
            "0                       87      896261   \n",
            "1                     1032      867710   \n",
            "2                      901      903907   \n",
            "3                      935      630965   \n",
            "4                      994      779955   \n",
            "\n",
            "   Sum of dinkes-od_17147_jumlah_balita_stunting_berdasarkan_kabupatenkota_v1 (3).Data_stu  \\\n",
            "0                                             336139                                         \n",
            "1                                             263972                                         \n",
            "2                                             224525                                         \n",
            "3                                             226436                                         \n",
            "4                                             276069                                         \n",
            "\n",
            "   Sum of kapitaekonomi.Pendapatan  Sum of kode_provinsi  \\\n",
            "0                              NaN                    32   \n",
            "1                     26554.666667                    32   \n",
            "2                     27759.592593                    32   \n",
            "3                     29115.481481                    32   \n",
            "4                     28872.185185                    32   \n",
            "\n",
            "   Sum of Konsumsi_kacang.Konsumsi_kacang  tahun  Sum of id  \n",
            "0                                     NaN   2016          1  \n",
            "1                                     NaN   2017          2  \n",
            "2                                     NaN   2018          3  \n",
            "3                                  3163.0   2019          4  \n",
            "4                                  3110.0   2020          5  \n"
          ]
        }
      ]
    },
    {
      "cell_type": "code",
      "source": [
        "# 1. Mengisi Data Hilang\n",
        "# Menggunakan interpolasi\n",
        "data.interpolate(method='linear', inplace=True)"
      ],
      "metadata": {
        "id": "G-ABK1khZFV8"
      },
      "execution_count": null,
      "outputs": []
    },
    {
      "cell_type": "code",
      "source": [
        "# Jika masih ada data yang hilang, kita bisa menggunakan rata-rata\n",
        "data.fillna(data.mean(), inplace=True)"
      ],
      "metadata": {
        "id": "cfR31MJ-ZHV2"
      },
      "execution_count": null,
      "outputs": []
    },
    {
      "cell_type": "code",
      "source": [
        "# Jika Anda ingin menggunakan regresi untuk mengisi data hilang, Anda bisa menggunakan model regresi\n",
        "# Contoh sederhana menggunakan regresi linier\n",
        "from sklearn.linear_model import LinearRegression"
      ],
      "metadata": {
        "id": "ztSBhJiNZJM_"
      },
      "execution_count": null,
      "outputs": []
    },
    {
      "cell_type": "code",
      "source": [
        "# Misalkan kita ingin mengisi kolom 'stunting' yang hilang\n",
        "if data['Sum of kapitaekonomi.Pendapatan'].isnull().any():\n",
        "    # Membagi data menjadi fitur dan target\n",
        "    data_with_na = data[data['Sum of kapitaekonomi.Pendapatan'].isnull()]\n",
        "    data_without_na = data[data['Sum of kapitaekonomi.Pendapatan'].notnull()]\n",
        "\n",
        "    # Misalkan kita menggunakan tahun sebagai fitur\n",
        "    X_train = data_without_na[['tahun']]  # Ganti 'tahun' dengan nama kolom tahun Anda\n",
        "    y_train = data_without_na['Sum of kapitaekonomi.Pendapatan']\n",
        "\n",
        "    # Melatih model regresi\n",
        "    model = LinearRegression()\n",
        "    model.fit(X_train, y_train)\n",
        "\n",
        "    # Mengisi nilai yang hilang\n",
        "    X_test = data_with_na[['tahun']]\n",
        "    data.loc[data['Sum of kapitaekonomi.Pendapatan'].isnull(), 'Sum of kapitaekonomi.Pendapatan'] = model.predict(X_test)\n"
      ],
      "metadata": {
        "id": "LAG8crXQZLMC"
      },
      "execution_count": null,
      "outputs": []
    },
    {
      "cell_type": "code",
      "source": [
        "# Menampilkan data setelah pengisian\n",
        "print(data.head())"
      ],
      "metadata": {
        "colab": {
          "base_uri": "https://localhost:8080/"
        },
        "id": "OpYRrZrDZM9j",
        "outputId": "dc943235-1d45-4d26-9cd7-d4df8a0fb7e2"
      },
      "execution_count": null,
      "outputs": [
        {
          "output_type": "stream",
          "name": "stdout",
          "text": [
            "   Sum of Konsumsi_protein  Sum of BCG  \\\n",
            "0                       87      896261   \n",
            "1                     1032      867710   \n",
            "2                      901      903907   \n",
            "3                      935      630965   \n",
            "4                      994      779955   \n",
            "\n",
            "   Sum of dinkes-od_17147_jumlah_balita_stunting_berdasarkan_kabupatenkota_v1 (3).Data_stu  \\\n",
            "0                                             336139                                         \n",
            "1                                             263972                                         \n",
            "2                                             224525                                         \n",
            "3                                             226436                                         \n",
            "4                                             276069                                         \n",
            "\n",
            "   Sum of kapitaekonomi.Pendapatan  Sum of kode_provinsi  \\\n",
            "0                     29039.328042                    32   \n",
            "1                     26554.666667                    32   \n",
            "2                     27759.592593                    32   \n",
            "3                     29115.481481                    32   \n",
            "4                     28872.185185                    32   \n",
            "\n",
            "   Sum of Konsumsi_kacang.Konsumsi_kacang  tahun  Sum of id  \n",
            "0                                  3122.2   2016          1  \n",
            "1                                  3122.2   2017          2  \n",
            "2                                  3122.2   2018          3  \n",
            "3                                  3163.0   2019          4  \n",
            "4                                  3110.0   2020          5  \n"
          ]
        }
      ]
    },
    {
      "cell_type": "code",
      "source": [
        "# 2. Standarisasi Data\n",
        "scaler = StandardScaler()"
      ],
      "metadata": {
        "id": "Yj1NaRx6ZO2v"
      },
      "execution_count": null,
      "outputs": []
    },
    {
      "cell_type": "code",
      "source": [
        "# Menampilkan data setelah standarisasi\n",
        "print(data.head())"
      ],
      "metadata": {
        "colab": {
          "base_uri": "https://localhost:8080/"
        },
        "id": "AIXqYaLKZQrc",
        "outputId": "347e8f2f-a8e4-486f-defc-fe407bdf48b7"
      },
      "execution_count": null,
      "outputs": [
        {
          "output_type": "stream",
          "name": "stdout",
          "text": [
            "   Sum of Konsumsi_protein  Sum of BCG  \\\n",
            "0                       87      896261   \n",
            "1                     1032      867710   \n",
            "2                      901      903907   \n",
            "3                      935      630965   \n",
            "4                      994      779955   \n",
            "\n",
            "   Sum of dinkes-od_17147_jumlah_balita_stunting_berdasarkan_kabupatenkota_v1 (3).Data_stu  \\\n",
            "0                                             336139                                         \n",
            "1                                             263972                                         \n",
            "2                                             224525                                         \n",
            "3                                             226436                                         \n",
            "4                                             276069                                         \n",
            "\n",
            "   Sum of kapitaekonomi.Pendapatan  Sum of kode_provinsi  \\\n",
            "0                     29039.328042                    32   \n",
            "1                     26554.666667                    32   \n",
            "2                     27759.592593                    32   \n",
            "3                     29115.481481                    32   \n",
            "4                     28872.185185                    32   \n",
            "\n",
            "   Sum of Konsumsi_kacang.Konsumsi_kacang  tahun  Sum of id  \n",
            "0                                  3122.2   2016          1  \n",
            "1                                  3122.2   2017          2  \n",
            "2                                  3122.2   2018          3  \n",
            "3                                  3163.0   2019          4  \n",
            "4                                  3110.0   2020          5  \n"
          ]
        }
      ]
    },
    {
      "cell_type": "code",
      "source": [
        "# Menyimpan data yang sudah dibersihkan ke file baru\n",
        "data.to_csv('data_stunting_cleaned.csv', index=False)"
      ],
      "metadata": {
        "id": "awfAVXjjZStj"
      },
      "execution_count": null,
      "outputs": []
    },
    {
      "cell_type": "markdown",
      "source": [
        "# **FEATURE ENGINEER**"
      ],
      "metadata": {
        "id": "p9X5IO4bZUyh"
      }
    },
    {
      "cell_type": "code",
      "source": [
        "data = pd.read_csv('data_stunting_cleaned.csv')"
      ],
      "metadata": {
        "id": "UW66H0h2Txan"
      },
      "execution_count": null,
      "outputs": []
    },
    {
      "cell_type": "code",
      "source": [
        "data['tahun'] = pd.to_datetime(data['tahun'], format='%Y')"
      ],
      "metadata": {
        "id": "fkSXRzQiT6P4"
      },
      "execution_count": null,
      "outputs": []
    },
    {
      "cell_type": "code",
      "source": [
        "data.set_index('tahun', inplace=True)"
      ],
      "metadata": {
        "id": "D_qSeXsET9xn"
      },
      "execution_count": null,
      "outputs": []
    },
    {
      "cell_type": "code",
      "source": [
        "print(data.head())"
      ],
      "metadata": {
        "colab": {
          "base_uri": "https://localhost:8080/"
        },
        "id": "wcOK01O9UEkC",
        "outputId": "5307a643-5a2f-4194-ec0e-29d0eb38a664"
      },
      "execution_count": null,
      "outputs": [
        {
          "output_type": "stream",
          "name": "stdout",
          "text": [
            "            Sum of Konsumsi_protein  Sum of BCG  \\\n",
            "tahun                                             \n",
            "2016-01-01                       87      896261   \n",
            "2017-01-01                     1032      867710   \n",
            "2018-01-01                      901      903907   \n",
            "2019-01-01                      935      630965   \n",
            "2020-01-01                      994      779955   \n",
            "\n",
            "            Sum of dinkes-od_17147_jumlah_balita_stunting_berdasarkan_kabupatenkota_v1 (3).Data_stu  \\\n",
            "tahun                                                                                                 \n",
            "2016-01-01                                             336139                                         \n",
            "2017-01-01                                             263972                                         \n",
            "2018-01-01                                             224525                                         \n",
            "2019-01-01                                             226436                                         \n",
            "2020-01-01                                             276069                                         \n",
            "\n",
            "            Sum of kapitaekonomi.Pendapatan  Sum of kode_provinsi  \\\n",
            "tahun                                                               \n",
            "2016-01-01                     29039.328042                    32   \n",
            "2017-01-01                     26554.666667                    32   \n",
            "2018-01-01                     27759.592593                    32   \n",
            "2019-01-01                     29115.481481                    32   \n",
            "2020-01-01                     28872.185185                    32   \n",
            "\n",
            "            Sum of Konsumsi_kacang.Konsumsi_kacang  Sum of id  \n",
            "tahun                                                          \n",
            "2016-01-01                                  3122.2          1  \n",
            "2017-01-01                                  3122.2          2  \n",
            "2018-01-01                                  3122.2          3  \n",
            "2019-01-01                                  3163.0          4  \n",
            "2020-01-01                                  3110.0          5  \n"
          ]
        }
      ]
    },
    {
      "cell_type": "code",
      "source": [
        "data['PDRB_lag_1'] = data['Sum of kapitaekonomi.Pendapatan'].shift(1)  # Ganti 'PDRB' dengan nama kolom yang sesuai\n",
        "data['PDRB_lag_2'] = data['Sum of kapitaekonomi.Pendapatan'].shift(2)  # Ganti 'PDRB' dengan nama kolom yang sesuai\n",
        "data['PDRB_lag_3'] = data['Sum of kapitaekonomi.Pendapatan'].shift(3)  # Ganti 'PDRB' dengan nama kolom yang sesuai\n"
      ],
      "metadata": {
        "id": "bevxJj4_UzHn"
      },
      "execution_count": null,
      "outputs": []
    },
    {
      "cell_type": "code",
      "source": [
        "data['moving_average_consumsi_ungas'] = data['Sum of Konsumsi_protein'].rolling(window=3).mean()  # Ganti 'konsumsi_ungas' dengan nama kolom yang sesuai\n"
      ],
      "metadata": {
        "id": "x1hg5Cw3UAUz"
      },
      "execution_count": null,
      "outputs": []
    },
    {
      "cell_type": "code",
      "source": [
        "print(data.tail())"
      ],
      "metadata": {
        "colab": {
          "base_uri": "https://localhost:8080/"
        },
        "id": "5IMETKN1Ur3e",
        "outputId": "8ecf3c57-e32e-4841-ce85-d2aa40d2ffb6"
      },
      "execution_count": null,
      "outputs": [
        {
          "output_type": "stream",
          "name": "stdout",
          "text": [
            "            Sum of Konsumsi_protein  Sum of BCG  \\\n",
            "tahun                                             \n",
            "2019-01-01                      935      630965   \n",
            "2020-01-01                      994      779955   \n",
            "2021-01-01                     1034      898067   \n",
            "2022-01-01                     1079      839924   \n",
            "2023-01-01                      110      797433   \n",
            "\n",
            "            Sum of dinkes-od_17147_jumlah_balita_stunting_berdasarkan_kabupatenkota_v1 (3).Data_stu  \\\n",
            "tahun                                                                                                 \n",
            "2019-01-01                                             226436                                         \n",
            "2020-01-01                                             276069                                         \n",
            "2021-01-01                                             206514                                         \n",
            "2022-01-01                                             180042                                         \n",
            "2023-01-01                                             132625                                         \n",
            "\n",
            "            Sum of kapitaekonomi.Pendapatan  Sum of kode_provinsi  \\\n",
            "tahun                                                               \n",
            "2019-01-01                     29115.481481                    32   \n",
            "2020-01-01                     28872.185185                    32   \n",
            "2021-01-01                     29546.333333                    32   \n",
            "2022-01-01                     30713.518519                    32   \n",
            "2023-01-01                     30713.518519                    32   \n",
            "\n",
            "            Sum of Konsumsi_kacang.Konsumsi_kacang  Sum of id  \\\n",
            "tahun                                                           \n",
            "2019-01-01                                  3163.0          4   \n",
            "2020-01-01                                  3110.0          5   \n",
            "2021-01-01                                  3137.0          6   \n",
            "2022-01-01                                  3308.0          7   \n",
            "2023-01-01                                  2893.0          8   \n",
            "\n",
            "            moving_average_consumsi_ungas    PDRB_lag_1    PDRB_lag_2  \\\n",
            "tahun                                                                   \n",
            "2019-01-01                     956.000000  27759.592593  26554.666667   \n",
            "2020-01-01                     943.333333  29115.481481  27759.592593   \n",
            "2021-01-01                     987.666667  28872.185185  29115.481481   \n",
            "2022-01-01                    1035.666667  29546.333333  28872.185185   \n",
            "2023-01-01                     741.000000  30713.518519  29546.333333   \n",
            "\n",
            "              PDRB_lag_3  \n",
            "tahun                     \n",
            "2019-01-01  29039.328042  \n",
            "2020-01-01  26554.666667  \n",
            "2021-01-01  27759.592593  \n",
            "2022-01-01  29115.481481  \n",
            "2023-01-01  28872.185185  \n"
          ]
        }
      ]
    },
    {
      "cell_type": "code",
      "source": [
        "data.to_csv('data_stunting_feature_engineered.csv', index=True)"
      ],
      "metadata": {
        "id": "UMBoSLPaVDf7"
      },
      "execution_count": null,
      "outputs": []
    },
    {
      "cell_type": "markdown",
      "source": [
        "## **DATASET FORMAT LSTM**\n"
      ],
      "metadata": {
        "id": "1zDIWj-JVT2N"
      }
    },
    {
      "cell_type": "code",
      "source": [
        "import numpy as np"
      ],
      "metadata": {
        "id": "dUFcdjp2VYhT"
      },
      "execution_count": null,
      "outputs": []
    },
    {
      "cell_type": "code",
      "source": [
        "def create_dataset(data, history_size, target_size):\n",
        "    X, y = [], []\n",
        "    for i in range(len(data) - history_size - target_size + 1):\n",
        "        X.append(data[i:(i + history_size)])\n",
        "        y.append(data[i + history_size + target_size - 1])  # Output adalah angka stunting tahun berikutnya\n",
        "    return np.array(X), np.array(y)"
      ],
      "metadata": {
        "id": "IdjIhyBHVcHm"
      },
      "execution_count": null,
      "outputs": []
    },
    {
      "cell_type": "code",
      "source": [
        "# Contoh penggunaan\n",
        "# Misalkan 'data' adalah DataFrame yang berisi variabel independen\n",
        "data = pd.read_csv('data_stunting_feature_engineered.csv')  # Ganti dengan nama file Anda\n",
        "features = data[['Sum of kapitaekonomi.Pendapatan', 'Sum of Konsumsi_protein', 'Sum of BCG']].values  # Ganti dengan kolom yang sesuai\n"
      ],
      "metadata": {
        "id": "9GhVrXmuVfhH"
      },
      "execution_count": null,
      "outputs": []
    },
    {
      "cell_type": "code",
      "source": [
        "# Tentukan ukuran jendela\n",
        "history_size = 3  # Misalnya 3 tahun sebelumnya\n",
        "target_size = 1   # 1 tahun ke depan"
      ],
      "metadata": {
        "id": "PFN41agVVyXh"
      },
      "execution_count": null,
      "outputs": []
    },
    {
      "cell_type": "code",
      "source": [
        "# Membuat dataset\n",
        "X, y = create_dataset(features, history_size, target_size)"
      ],
      "metadata": {
        "id": "Cmi8rD1zV02D"
      },
      "execution_count": null,
      "outputs": []
    },
    {
      "cell_type": "code",
      "source": [
        "# Menampilkan bentuk dataset\n",
        "print(\"Input shape:\", X.shape)\n",
        "print(\"Output shape:\", y.shape)"
      ],
      "metadata": {
        "colab": {
          "base_uri": "https://localhost:8080/"
        },
        "id": "Oumv23iYV2v_",
        "outputId": "f0a08bc2-eb0c-4eb2-815d-f9092b1ea3cb"
      },
      "execution_count": null,
      "outputs": [
        {
          "output_type": "stream",
          "name": "stdout",
          "text": [
            "Input shape: (5, 3, 3)\n",
            "Output shape: (5, 3)\n"
          ]
        }
      ]
    },
    {
      "cell_type": "markdown",
      "source": [
        "# **SPLITTING DATA SET**"
      ],
      "metadata": {
        "id": "6LS9RvB9WLPM"
      }
    },
    {
      "cell_type": "code",
      "source": [
        "from sklearn.model_selection import train_test_split"
      ],
      "metadata": {
        "id": "3-EL2IkaWQfn"
      },
      "execution_count": null,
      "outputs": []
    },
    {
      "cell_type": "code",
      "source": [
        "# Fungsi untuk membuat dataset (seperti yang telah dijelaskan sebelumnya)\n",
        "def create_dataset(data, history_size, target_size):\n",
        "    X, y = [], []\n",
        "    for i in range(len(data) - history_size - target_size + 1):\n",
        "        X.append(data[i:(i + history_size)])\n",
        "        y.append(data[i + history_size + target_size - 1])  # Output adalah angka stunting tahun berikutnya\n",
        "    return np.array(X), np.array(y)"
      ],
      "metadata": {
        "id": "vX44c7OMWU3l"
      },
      "execution_count": null,
      "outputs": []
    },
    {
      "cell_type": "code",
      "source": [
        "# Membaca data dari file CSV\n",
        "data = pd.read_csv('data_stunting_feature_engineered.csv')  # Ganti dengan nama file Anda\n",
        "features = data[['Sum of kapitaekonomi.Pendapatan', 'Sum of Konsumsi_protein', 'Sum of BCG']].values  # Ganti dengan kolom yang sesuai\n"
      ],
      "metadata": {
        "id": "z99jQheBWWe6"
      },
      "execution_count": null,
      "outputs": []
    },
    {
      "cell_type": "code",
      "source": [
        "# Tentukan ukuran jendela\n",
        "history_size = 3  # Misalnya 3 tahun sebelumnya\n",
        "target_size = 1   # 1 tahun ke depan"
      ],
      "metadata": {
        "id": "w8Z_qi2zWiJm"
      },
      "execution_count": null,
      "outputs": []
    },
    {
      "cell_type": "code",
      "source": [
        "# Membuat dataset\n",
        "X, y = create_dataset(features, history_size, target_size)"
      ],
      "metadata": {
        "id": "gEuZObHIWk4H"
      },
      "execution_count": null,
      "outputs": []
    },
    {
      "cell_type": "code",
      "source": [
        "# Memisahkan dataset menjadi Training Set dan Test Set\n",
        "X_train_val, X_test, y_train_val, y_test = train_test_split(X, y, test_size=0.2, random_state=42)\n"
      ],
      "metadata": {
        "id": "Yu7O07Q6WmeF"
      },
      "execution_count": null,
      "outputs": []
    },
    {
      "cell_type": "code",
      "source": [
        "# Memisahkan Training Set menjadi Training dan Validation Set\n",
        "X_train, X_val, y_train, y_val = train_test_split(X_train_val, y_train_val, test_size=0.2, random_state=42)\n"
      ],
      "metadata": {
        "id": "KI4z6vFSWnkY"
      },
      "execution_count": null,
      "outputs": []
    },
    {
      "cell_type": "code",
      "source": [
        "# Menampilkan bentuk dataset\n",
        "print(\"Training Set shape:\", X_train.shape, y_train.shape)\n",
        "print(\"Validation Set shape:\", X_val.shape, y_val.shape)\n",
        "print(\"Test Set shape:\", X_test.shape, y_test.shape)"
      ],
      "metadata": {
        "colab": {
          "base_uri": "https://localhost:8080/"
        },
        "id": "H4TTKAV1Wop1",
        "outputId": "28254aa7-f48f-47f1-9d33-8ea4255ac6ab"
      },
      "execution_count": null,
      "outputs": [
        {
          "output_type": "stream",
          "name": "stdout",
          "text": [
            "Training Set shape: (3, 3, 3) (3, 3)\n",
            "Validation Set shape: (1, 3, 3) (1, 3)\n",
            "Test Set shape: (1, 3, 3) (1, 3)\n"
          ]
        }
      ]
    },
    {
      "cell_type": "code",
      "source": [
        "# Misalkan kita sudah memiliki X_train, y_train, X_val, y_val, X_test, y_test\n",
        "# Contoh data (ganti dengan data Anda)\n",
        "X_train = np.random.rand(3, 3, 3)  # Contoh data training\n",
        "y_train = np.random.rand(3, 3)      # Contoh target training\n",
        "X_val = np.random.rand(1, 3, 3)     # Contoh data validation\n",
        "y_val = np.random.rand(1, 3)         # Contoh target validation\n",
        "X_test = np.random.rand(1, 3, 3)    # Contoh data test\n",
        "y_test = np.random.rand(1, 3)        # Contoh target test\n",
        "\n",
        "# Fungsi untuk menyimpan dataset ke format CSV\n",
        "def save_to_csv(X, y, filename):\n",
        "    # Mengonversi X dan y ke DataFrame\n",
        "    df_X = pd.DataFrame(X.reshape(X.shape[0], -1))  # Mengubah bentuk X menjadi 2D\n",
        "    df_y = pd.DataFrame(y, columns=['stunting_1', 'stunting_2', 'stunting_3'])  # Ganti dengan nama kolom yang sesuai\n",
        "    df = pd.concat([df_X, df_y], axis=1)  # Menggabungkan X dan y\n",
        "    df.to_csv(filename, index=False)  # Menyimpan ke CSV\n",
        "\n",
        "# Menyimpan masing-masing set\n",
        "save_to_csv(X_train, y_train, 'train_set.csv')\n",
        "save_to_csv(X_val, y_val, 'val_set.csv')\n",
        "save_to_csv(X_test, y_test, 'test_set.csv')\n",
        "\n",
        "print(\"Dataset telah disimpan ke format CSV.\")"
      ],
      "metadata": {
        "colab": {
          "base_uri": "https://localhost:8080/"
        },
        "id": "UMTUL6QhXY6t",
        "outputId": "305c1816-ebec-468e-cefb-438902b85f5a"
      },
      "execution_count": null,
      "outputs": [
        {
          "output_type": "stream",
          "name": "stdout",
          "text": [
            "Dataset telah disimpan ke format CSV.\n"
          ]
        }
      ]
    },
    {
      "cell_type": "markdown",
      "source": [
        "# **MODEL LSTM**"
      ],
      "metadata": {
        "id": "Qkp8lpqRYiBe"
      }
    },
    {
      "cell_type": "code",
      "source": [
        "import matplotlib.pyplot as plt\n",
        "from keras.models import Sequential\n",
        "from keras.layers import LSTM, Dense, Dropout, Input\n",
        "from sklearn.preprocessing import MinMaxScaler"
      ],
      "metadata": {
        "id": "ncRyh9d0YhWC"
      },
      "execution_count": null,
      "outputs": []
    },
    {
      "cell_type": "code",
      "source": [
        "# Misalkan kita sudah memiliki data yang telah dinormalisasi\n",
        "# Contoh data (ganti dengan data Anda)\n",
        "data = pd.read_csv('data_stunting_feature_engineered.csv')  # Ganti dengan nama file Anda\n",
        "data = data['Sum of dinkes-od_17147_jumlah_balita_stunting_berdasarkan_kabupatenkota_v1 (3).Data_stu'].values  # Mengambil kolom yang relevan\n",
        "data = data.reshape(-1, 1)"
      ],
      "metadata": {
        "id": "RM-PUQuWZk7g"
      },
      "execution_count": null,
      "outputs": []
    },
    {
      "cell_type": "code",
      "source": [
        "# Normalisasi data\n",
        "scaler = MinMaxScaler(feature_range=(0, 1))\n",
        "scaled_data = scaler.fit_transform(data)"
      ],
      "metadata": {
        "id": "HrOhmnaWZ8Jv"
      },
      "execution_count": null,
      "outputs": []
    },
    {
      "cell_type": "code",
      "source": [
        "# Memisahkan dataset menjadi Training Set dan Test Set\n",
        "#X_train_val, X_test, y_train_val, y_test = train_test_split(X, y, test_size=0.2, random_state=42)\n",
        "# Memisahkan Training Set menjadi Training dan Validation Set\n",
        "#X_train, X_val, y_train, y_val = train_test_split(X_train_val, y_train_val, test_size=0.2, random_state=42)\n"
      ],
      "metadata": {
        "id": "WmPKDzSqZ_mx"
      },
      "execution_count": null,
      "outputs": []
    },
    {
      "cell_type": "code",
      "source": [
        "# Memisahkan dataset menjadi Training Set dan Test Set\n",
        "# Menggunakan scaled_data yang telah dinormalisasi\n",
        "X_train_val, X_test, y_train_val, y_test = train_test_split(scaled_data, scaled_data, test_size=0.2, random_state=42) # Menggunakan scaled_data\n",
        "# Memisahkan Training Set menjadi Training dan Validation Set\n",
        "X_train, X_val, y_train, y_val = train_test_split(X_train_val, y_train_val, test_size=0.2, random_state=42)\n",
        "\n",
        "# Membuat dataset dengan timesteps\n",
        "def create_dataset(data, time_step=1):\n",
        "    X, y = [], []\n",
        "    for i in range(len(data) - time_step - 1): # Perbaikan: dikurangi 1 agar index tidak melebihi batas\n",
        "        a = data[i:(i + time_step), 0]\n",
        "        X.append(a)\n",
        "        y.append(data[i + time_step, 0])\n"
      ],
      "metadata": {
        "id": "9QW6gowtaAAP"
      },
      "execution_count": null,
      "outputs": []
    },
    {
      "cell_type": "code",
      "source": [
        "# Reshape input untuk LSTM [samples, time steps, features]\n",
        "X_train = X_train.reshape(X_train.shape[0], X_train.shape[1], 1)\n",
        "X_test = X_test.reshape(X_test.shape[0], X_test.shape[1], 1)"
      ],
      "metadata": {
        "id": "ci9-LidtaBvj"
      },
      "execution_count": null,
      "outputs": []
    },
    {
      "cell_type": "code",
      "source": [
        "# Membangun model LSTM\n",
        "model = Sequential()\n",
        "model.add(Input(shape=(X_train.shape[1], 1)))  # Menggunakan Input layer\n",
        "model.add(LSTM(units=50, return_sequences=True))\n",
        "model.add(Dropout(0.2))\n",
        "model.add(LSTM(units=50, return_sequences=True))\n",
        "model.add(Dropout(0.2))\n",
        "model.add(LSTM(units=50))\n",
        "model.add(Dropout(0.2))\n",
        "model.add(Dense(units=1))  # Output layer"
      ],
      "metadata": {
        "id": "5wkrVkNsawlz"
      },
      "execution_count": null,
      "outputs": []
    },
    {
      "cell_type": "code",
      "source": [
        "# Mengkompilasi model\n",
        "model.compile(optimizer='adam', loss='mean_squared_error')"
      ],
      "metadata": {
        "id": "5s59JZ3ebPJ5"
      },
      "execution_count": null,
      "outputs": []
    },
    {
      "cell_type": "code",
      "source": [
        "# Melatih model\n",
        "history=model.fit(X_train, y_train, epochs=100, batch_size=32)\n",
        "history = model.fit(X_train, y_train, epochs=10, validation_data=(X_val, y_val))  # Add validation_data\n"
      ],
      "metadata": {
        "colab": {
          "base_uri": "https://localhost:8080/"
        },
        "id": "Wp7DVBbGcBog",
        "outputId": "670eb950-dd0a-413c-c84d-73e85924fd29"
      },
      "execution_count": null,
      "outputs": [
        {
          "output_type": "stream",
          "name": "stdout",
          "text": [
            "Epoch 1/100\n",
            "\u001b[1m1/1\u001b[0m \u001b[32m━━━━━━━━━━━━━━━━━━━━\u001b[0m\u001b[37m\u001b[0m \u001b[1m0s\u001b[0m 71ms/step - loss: 0.0071\n",
            "Epoch 2/100\n",
            "\u001b[1m1/1\u001b[0m \u001b[32m━━━━━━━━━━━━━━━━━━━━\u001b[0m\u001b[37m\u001b[0m \u001b[1m0s\u001b[0m 154ms/step - loss: 0.0051\n",
            "Epoch 3/100\n",
            "\u001b[1m1/1\u001b[0m \u001b[32m━━━━━━━━━━━━━━━━━━━━\u001b[0m\u001b[37m\u001b[0m \u001b[1m0s\u001b[0m 139ms/step - loss: 0.0032\n",
            "Epoch 4/100\n",
            "\u001b[1m1/1\u001b[0m \u001b[32m━━━━━━━━━━━━━━━━━━━━\u001b[0m\u001b[37m\u001b[0m \u001b[1m0s\u001b[0m 54ms/step - loss: 0.0021\n",
            "Epoch 5/100\n",
            "\u001b[1m1/1\u001b[0m \u001b[32m━━━━━━━━━━━━━━━━━━━━\u001b[0m\u001b[37m\u001b[0m \u001b[1m0s\u001b[0m 59ms/step - loss: 0.0025\n",
            "Epoch 6/100\n",
            "\u001b[1m1/1\u001b[0m \u001b[32m━━━━━━━━━━━━━━━━━━━━\u001b[0m\u001b[37m\u001b[0m \u001b[1m0s\u001b[0m 63ms/step - loss: 0.0015\n",
            "Epoch 7/100\n",
            "\u001b[1m1/1\u001b[0m \u001b[32m━━━━━━━━━━━━━━━━━━━━\u001b[0m\u001b[37m\u001b[0m \u001b[1m0s\u001b[0m 66ms/step - loss: 0.0164\n",
            "Epoch 8/100\n",
            "\u001b[1m1/1\u001b[0m \u001b[32m━━━━━━━━━━━━━━━━━━━━\u001b[0m\u001b[37m\u001b[0m \u001b[1m0s\u001b[0m 136ms/step - loss: 0.0027\n",
            "Epoch 9/100\n",
            "\u001b[1m1/1\u001b[0m \u001b[32m━━━━━━━━━━━━━━━━━━━━\u001b[0m\u001b[37m\u001b[0m \u001b[1m0s\u001b[0m 101ms/step - loss: 0.0044\n",
            "Epoch 10/100\n",
            "\u001b[1m1/1\u001b[0m \u001b[32m━━━━━━━━━━━━━━━━━━━━\u001b[0m\u001b[37m\u001b[0m \u001b[1m0s\u001b[0m 87ms/step - loss: 0.0019\n",
            "Epoch 11/100\n",
            "\u001b[1m1/1\u001b[0m \u001b[32m━━━━━━━━━━━━━━━━━━━━\u001b[0m\u001b[37m\u001b[0m \u001b[1m0s\u001b[0m 159ms/step - loss: 0.0086\n",
            "Epoch 12/100\n",
            "\u001b[1m1/1\u001b[0m \u001b[32m━━━━━━━━━━━━━━━━━━━━\u001b[0m\u001b[37m\u001b[0m \u001b[1m0s\u001b[0m 278ms/step - loss: 0.0073\n",
            "Epoch 13/100\n",
            "\u001b[1m1/1\u001b[0m \u001b[32m━━━━━━━━━━━━━━━━━━━━\u001b[0m\u001b[37m\u001b[0m \u001b[1m0s\u001b[0m 31ms/step - loss: 0.0013\n",
            "Epoch 14/100\n",
            "\u001b[1m1/1\u001b[0m \u001b[32m━━━━━━━━━━━━━━━━━━━━\u001b[0m\u001b[37m\u001b[0m \u001b[1m0s\u001b[0m 31ms/step - loss: 0.0113\n",
            "Epoch 15/100\n",
            "\u001b[1m1/1\u001b[0m \u001b[32m━━━━━━━━━━━━━━━━━━━━\u001b[0m\u001b[37m\u001b[0m \u001b[1m0s\u001b[0m 60ms/step - loss: 0.0022\n",
            "Epoch 16/100\n",
            "\u001b[1m1/1\u001b[0m \u001b[32m━━━━━━━━━━━━━━━━━━━━\u001b[0m\u001b[37m\u001b[0m \u001b[1m0s\u001b[0m 53ms/step - loss: 0.0185\n",
            "Epoch 17/100\n",
            "\u001b[1m1/1\u001b[0m \u001b[32m━━━━━━━━━━━━━━━━━━━━\u001b[0m\u001b[37m\u001b[0m \u001b[1m0s\u001b[0m 30ms/step - loss: 4.8977e-04\n",
            "Epoch 18/100\n",
            "\u001b[1m1/1\u001b[0m \u001b[32m━━━━━━━━━━━━━━━━━━━━\u001b[0m\u001b[37m\u001b[0m \u001b[1m0s\u001b[0m 33ms/step - loss: 0.0105\n",
            "Epoch 19/100\n",
            "\u001b[1m1/1\u001b[0m \u001b[32m━━━━━━━━━━━━━━━━━━━━\u001b[0m\u001b[37m\u001b[0m \u001b[1m0s\u001b[0m 58ms/step - loss: 4.8779e-04\n",
            "Epoch 20/100\n",
            "\u001b[1m1/1\u001b[0m \u001b[32m━━━━━━━━━━━━━━━━━━━━\u001b[0m\u001b[37m\u001b[0m \u001b[1m0s\u001b[0m 32ms/step - loss: 0.0170\n",
            "Epoch 21/100\n",
            "\u001b[1m1/1\u001b[0m \u001b[32m━━━━━━━━━━━━━━━━━━━━\u001b[0m\u001b[37m\u001b[0m \u001b[1m0s\u001b[0m 62ms/step - loss: 0.0035\n",
            "Epoch 22/100\n",
            "\u001b[1m1/1\u001b[0m \u001b[32m━━━━━━━━━━━━━━━━━━━━\u001b[0m\u001b[37m\u001b[0m \u001b[1m0s\u001b[0m 44ms/step - loss: 0.0074\n",
            "Epoch 23/100\n",
            "\u001b[1m1/1\u001b[0m \u001b[32m━━━━━━━━━━━━━━━━━━━━\u001b[0m\u001b[37m\u001b[0m \u001b[1m0s\u001b[0m 56ms/step - loss: 0.0038\n",
            "Epoch 24/100\n",
            "\u001b[1m1/1\u001b[0m \u001b[32m━━━━━━━━━━━━━━━━━━━━\u001b[0m\u001b[37m\u001b[0m \u001b[1m0s\u001b[0m 44ms/step - loss: 0.0028\n",
            "Epoch 25/100\n",
            "\u001b[1m1/1\u001b[0m \u001b[32m━━━━━━━━━━━━━━━━━━━━\u001b[0m\u001b[37m\u001b[0m \u001b[1m0s\u001b[0m 55ms/step - loss: 0.0043\n",
            "Epoch 26/100\n",
            "\u001b[1m1/1\u001b[0m \u001b[32m━━━━━━━━━━━━━━━━━━━━\u001b[0m\u001b[37m\u001b[0m \u001b[1m0s\u001b[0m 60ms/step - loss: 0.0028\n",
            "Epoch 27/100\n",
            "\u001b[1m1/1\u001b[0m \u001b[32m━━━━━━━━━━━━━━━━━━━━\u001b[0m\u001b[37m\u001b[0m \u001b[1m0s\u001b[0m 59ms/step - loss: 0.0033\n",
            "Epoch 28/100\n",
            "\u001b[1m1/1\u001b[0m \u001b[32m━━━━━━━━━━━━━━━━━━━━\u001b[0m\u001b[37m\u001b[0m \u001b[1m0s\u001b[0m 32ms/step - loss: 0.0020\n",
            "Epoch 29/100\n",
            "\u001b[1m1/1\u001b[0m \u001b[32m━━━━━━━━━━━━━━━━━━━━\u001b[0m\u001b[37m\u001b[0m \u001b[1m0s\u001b[0m 31ms/step - loss: 0.0161\n",
            "Epoch 30/100\n",
            "\u001b[1m1/1\u001b[0m \u001b[32m━━━━━━━━━━━━━━━━━━━━\u001b[0m\u001b[37m\u001b[0m \u001b[1m0s\u001b[0m 57ms/step - loss: 0.0037\n",
            "Epoch 31/100\n",
            "\u001b[1m1/1\u001b[0m \u001b[32m━━━━━━━━━━━━━━━━━━━━\u001b[0m\u001b[37m\u001b[0m \u001b[1m0s\u001b[0m 32ms/step - loss: 0.0064\n",
            "Epoch 32/100\n",
            "\u001b[1m1/1\u001b[0m \u001b[32m━━━━━━━━━━━━━━━━━━━━\u001b[0m\u001b[37m\u001b[0m \u001b[1m0s\u001b[0m 32ms/step - loss: 0.0033\n",
            "Epoch 33/100\n",
            "\u001b[1m1/1\u001b[0m \u001b[32m━━━━━━━━━━━━━━━━━━━━\u001b[0m\u001b[37m\u001b[0m \u001b[1m0s\u001b[0m 32ms/step - loss: 0.0046\n",
            "Epoch 34/100\n",
            "\u001b[1m1/1\u001b[0m \u001b[32m━━━━━━━━━━━━━━━━━━━━\u001b[0m\u001b[37m\u001b[0m \u001b[1m0s\u001b[0m 30ms/step - loss: 0.0114\n",
            "Epoch 35/100\n",
            "\u001b[1m1/1\u001b[0m \u001b[32m━━━━━━━━━━━━━━━━━━━━\u001b[0m\u001b[37m\u001b[0m \u001b[1m0s\u001b[0m 59ms/step - loss: 0.0062\n",
            "Epoch 36/100\n",
            "\u001b[1m1/1\u001b[0m \u001b[32m━━━━━━━━━━━━━━━━━━━━\u001b[0m\u001b[37m\u001b[0m \u001b[1m0s\u001b[0m 32ms/step - loss: 0.0072\n",
            "Epoch 37/100\n",
            "\u001b[1m1/1\u001b[0m \u001b[32m━━━━━━━━━━━━━━━━━━━━\u001b[0m\u001b[37m\u001b[0m \u001b[1m0s\u001b[0m 34ms/step - loss: 0.0017\n",
            "Epoch 38/100\n",
            "\u001b[1m1/1\u001b[0m \u001b[32m━━━━━━━━━━━━━━━━━━━━\u001b[0m\u001b[37m\u001b[0m \u001b[1m0s\u001b[0m 31ms/step - loss: 0.0039\n",
            "Epoch 39/100\n",
            "\u001b[1m1/1\u001b[0m \u001b[32m━━━━━━━━━━━━━━━━━━━━\u001b[0m\u001b[37m\u001b[0m \u001b[1m0s\u001b[0m 30ms/step - loss: 0.0031\n",
            "Epoch 40/100\n",
            "\u001b[1m1/1\u001b[0m \u001b[32m━━━━━━━━━━━━━━━━━━━━\u001b[0m\u001b[37m\u001b[0m \u001b[1m0s\u001b[0m 30ms/step - loss: 0.0022\n",
            "Epoch 41/100\n",
            "\u001b[1m1/1\u001b[0m \u001b[32m━━━━━━━━━━━━━━━━━━━━\u001b[0m\u001b[37m\u001b[0m \u001b[1m0s\u001b[0m 30ms/step - loss: 0.0085\n",
            "Epoch 42/100\n",
            "\u001b[1m1/1\u001b[0m \u001b[32m━━━━━━━━━━━━━━━━━━━━\u001b[0m\u001b[37m\u001b[0m \u001b[1m0s\u001b[0m 33ms/step - loss: 0.0044\n",
            "Epoch 43/100\n",
            "\u001b[1m1/1\u001b[0m \u001b[32m━━━━━━━━━━━━━━━━━━━━\u001b[0m\u001b[37m\u001b[0m \u001b[1m0s\u001b[0m 60ms/step - loss: 0.0022\n",
            "Epoch 44/100\n",
            "\u001b[1m1/1\u001b[0m \u001b[32m━━━━━━━━━━━━━━━━━━━━\u001b[0m\u001b[37m\u001b[0m \u001b[1m0s\u001b[0m 59ms/step - loss: 0.0015\n",
            "Epoch 45/100\n",
            "\u001b[1m1/1\u001b[0m \u001b[32m━━━━━━━━━━━━━━━━━━━━\u001b[0m\u001b[37m\u001b[0m \u001b[1m0s\u001b[0m 40ms/step - loss: 0.0014\n",
            "Epoch 46/100\n",
            "\u001b[1m1/1\u001b[0m \u001b[32m━━━━━━━━━━━━━━━━━━━━\u001b[0m\u001b[37m\u001b[0m \u001b[1m0s\u001b[0m 60ms/step - loss: 0.0026\n",
            "Epoch 47/100\n",
            "\u001b[1m1/1\u001b[0m \u001b[32m━━━━━━━━━━━━━━━━━━━━\u001b[0m\u001b[37m\u001b[0m \u001b[1m0s\u001b[0m 59ms/step - loss: 0.0015\n",
            "Epoch 48/100\n",
            "\u001b[1m1/1\u001b[0m \u001b[32m━━━━━━━━━━━━━━━━━━━━\u001b[0m\u001b[37m\u001b[0m \u001b[1m0s\u001b[0m 55ms/step - loss: 0.0054\n",
            "Epoch 49/100\n",
            "\u001b[1m1/1\u001b[0m \u001b[32m━━━━━━━━━━━━━━━━━━━━\u001b[0m\u001b[37m\u001b[0m \u001b[1m0s\u001b[0m 33ms/step - loss: 0.0028\n",
            "Epoch 50/100\n",
            "\u001b[1m1/1\u001b[0m \u001b[32m━━━━━━━━━━━━━━━━━━━━\u001b[0m\u001b[37m\u001b[0m \u001b[1m0s\u001b[0m 57ms/step - loss: 0.0011\n",
            "Epoch 51/100\n",
            "\u001b[1m1/1\u001b[0m \u001b[32m━━━━━━━━━━━━━━━━━━━━\u001b[0m\u001b[37m\u001b[0m \u001b[1m0s\u001b[0m 31ms/step - loss: 0.0028\n",
            "Epoch 52/100\n",
            "\u001b[1m1/1\u001b[0m \u001b[32m━━━━━━━━━━━━━━━━━━━━\u001b[0m\u001b[37m\u001b[0m \u001b[1m0s\u001b[0m 42ms/step - loss: 0.0024\n",
            "Epoch 53/100\n",
            "\u001b[1m1/1\u001b[0m \u001b[32m━━━━━━━━━━━━━━━━━━━━\u001b[0m\u001b[37m\u001b[0m \u001b[1m0s\u001b[0m 32ms/step - loss: 0.0032\n",
            "Epoch 54/100\n",
            "\u001b[1m1/1\u001b[0m \u001b[32m━━━━━━━━━━━━━━━━━━━━\u001b[0m\u001b[37m\u001b[0m \u001b[1m0s\u001b[0m 57ms/step - loss: 0.0013\n",
            "Epoch 55/100\n",
            "\u001b[1m1/1\u001b[0m \u001b[32m━━━━━━━━━━━━━━━━━━━━\u001b[0m\u001b[37m\u001b[0m \u001b[1m0s\u001b[0m 58ms/step - loss: 0.0024\n",
            "Epoch 56/100\n",
            "\u001b[1m1/1\u001b[0m \u001b[32m━━━━━━━━━━━━━━━━━━━━\u001b[0m\u001b[37m\u001b[0m \u001b[1m0s\u001b[0m 29ms/step - loss: 0.0012\n",
            "Epoch 57/100\n",
            "\u001b[1m1/1\u001b[0m \u001b[32m━━━━━━━━━━━━━━━━━━━━\u001b[0m\u001b[37m\u001b[0m \u001b[1m0s\u001b[0m 30ms/step - loss: 0.0017\n",
            "Epoch 58/100\n",
            "\u001b[1m1/1\u001b[0m \u001b[32m━━━━━━━━━━━━━━━━━━━━\u001b[0m\u001b[37m\u001b[0m \u001b[1m0s\u001b[0m 61ms/step - loss: 0.0057\n",
            "Epoch 59/100\n",
            "\u001b[1m1/1\u001b[0m \u001b[32m━━━━━━━━━━━━━━━━━━━━\u001b[0m\u001b[37m\u001b[0m \u001b[1m0s\u001b[0m 30ms/step - loss: 0.0032\n",
            "Epoch 60/100\n",
            "\u001b[1m1/1\u001b[0m \u001b[32m━━━━━━━━━━━━━━━━━━━━\u001b[0m\u001b[37m\u001b[0m \u001b[1m0s\u001b[0m 32ms/step - loss: 0.0028\n",
            "Epoch 61/100\n",
            "\u001b[1m1/1\u001b[0m \u001b[32m━━━━━━━━━━━━━━━━━━━━\u001b[0m\u001b[37m\u001b[0m \u001b[1m0s\u001b[0m 31ms/step - loss: 0.0040\n",
            "Epoch 62/100\n",
            "\u001b[1m1/1\u001b[0m \u001b[32m━━━━━━━━━━━━━━━━━━━━\u001b[0m\u001b[37m\u001b[0m \u001b[1m0s\u001b[0m 31ms/step - loss: 0.0059\n",
            "Epoch 63/100\n",
            "\u001b[1m1/1\u001b[0m \u001b[32m━━━━━━━━━━━━━━━━━━━━\u001b[0m\u001b[37m\u001b[0m \u001b[1m0s\u001b[0m 64ms/step - loss: 0.0035\n",
            "Epoch 64/100\n",
            "\u001b[1m1/1\u001b[0m \u001b[32m━━━━━━━━━━━━━━━━━━━━\u001b[0m\u001b[37m\u001b[0m \u001b[1m0s\u001b[0m 43ms/step - loss: 0.0022\n",
            "Epoch 65/100\n",
            "\u001b[1m1/1\u001b[0m \u001b[32m━━━━━━━━━━━━━━━━━━━━\u001b[0m\u001b[37m\u001b[0m \u001b[1m0s\u001b[0m 56ms/step - loss: 0.0017\n",
            "Epoch 66/100\n",
            "\u001b[1m1/1\u001b[0m \u001b[32m━━━━━━━━━━━━━━━━━━━━\u001b[0m\u001b[37m\u001b[0m \u001b[1m0s\u001b[0m 49ms/step - loss: 0.0082\n",
            "Epoch 67/100\n",
            "\u001b[1m1/1\u001b[0m \u001b[32m━━━━━━━━━━━━━━━━━━━━\u001b[0m\u001b[37m\u001b[0m \u001b[1m0s\u001b[0m 53ms/step - loss: 0.0054\n",
            "Epoch 68/100\n",
            "\u001b[1m1/1\u001b[0m \u001b[32m━━━━━━━━━━━━━━━━━━━━\u001b[0m\u001b[37m\u001b[0m \u001b[1m0s\u001b[0m 61ms/step - loss: 0.0041\n",
            "Epoch 69/100\n",
            "\u001b[1m1/1\u001b[0m \u001b[32m━━━━━━━━━━━━━━━━━━━━\u001b[0m\u001b[37m\u001b[0m \u001b[1m0s\u001b[0m 135ms/step - loss: 0.0024\n",
            "Epoch 70/100\n",
            "\u001b[1m1/1\u001b[0m \u001b[32m━━━━━━━━━━━━━━━━━━━━\u001b[0m\u001b[37m\u001b[0m \u001b[1m0s\u001b[0m 56ms/step - loss: 0.0017\n",
            "Epoch 71/100\n",
            "\u001b[1m1/1\u001b[0m \u001b[32m━━━━━━━━━━━━━━━━━━━━\u001b[0m\u001b[37m\u001b[0m \u001b[1m0s\u001b[0m 54ms/step - loss: 0.0028\n",
            "Epoch 72/100\n",
            "\u001b[1m1/1\u001b[0m \u001b[32m━━━━━━━━━━━━━━━━━━━━\u001b[0m\u001b[37m\u001b[0m \u001b[1m0s\u001b[0m 40ms/step - loss: 0.0042\n",
            "Epoch 73/100\n",
            "\u001b[1m1/1\u001b[0m \u001b[32m━━━━━━━━━━━━━━━━━━━━\u001b[0m\u001b[37m\u001b[0m \u001b[1m0s\u001b[0m 66ms/step - loss: 0.0149\n",
            "Epoch 74/100\n",
            "\u001b[1m1/1\u001b[0m \u001b[32m━━━━━━━━━━━━━━━━━━━━\u001b[0m\u001b[37m\u001b[0m \u001b[1m0s\u001b[0m 61ms/step - loss: 0.0050\n",
            "Epoch 75/100\n",
            "\u001b[1m1/1\u001b[0m \u001b[32m━━━━━━━━━━━━━━━━━━━━\u001b[0m\u001b[37m\u001b[0m \u001b[1m0s\u001b[0m 62ms/step - loss: 0.0043\n",
            "Epoch 76/100\n",
            "\u001b[1m1/1\u001b[0m \u001b[32m━━━━━━━━━━━━━━━━━━━━\u001b[0m\u001b[37m\u001b[0m \u001b[1m0s\u001b[0m 57ms/step - loss: 0.0112\n",
            "Epoch 77/100\n",
            "\u001b[1m1/1\u001b[0m \u001b[32m━━━━━━━━━━━━━━━━━━━━\u001b[0m\u001b[37m\u001b[0m \u001b[1m0s\u001b[0m 43ms/step - loss: 0.0062\n",
            "Epoch 78/100\n",
            "\u001b[1m1/1\u001b[0m \u001b[32m━━━━━━━━━━━━━━━━━━━━\u001b[0m\u001b[37m\u001b[0m \u001b[1m0s\u001b[0m 66ms/step - loss: 0.0040\n",
            "Epoch 79/100\n",
            "\u001b[1m1/1\u001b[0m \u001b[32m━━━━━━━━━━━━━━━━━━━━\u001b[0m\u001b[37m\u001b[0m \u001b[1m0s\u001b[0m 144ms/step - loss: 0.0031\n",
            "Epoch 80/100\n",
            "\u001b[1m1/1\u001b[0m \u001b[32m━━━━━━━━━━━━━━━━━━━━\u001b[0m\u001b[37m\u001b[0m \u001b[1m0s\u001b[0m 130ms/step - loss: 0.0057\n",
            "Epoch 81/100\n",
            "\u001b[1m1/1\u001b[0m \u001b[32m━━━━━━━━━━━━━━━━━━━━\u001b[0m\u001b[37m\u001b[0m \u001b[1m0s\u001b[0m 48ms/step - loss: 0.0024\n",
            "Epoch 82/100\n",
            "\u001b[1m1/1\u001b[0m \u001b[32m━━━━━━━━━━━━━━━━━━━━\u001b[0m\u001b[37m\u001b[0m \u001b[1m0s\u001b[0m 48ms/step - loss: 0.0037\n",
            "Epoch 83/100\n",
            "\u001b[1m1/1\u001b[0m \u001b[32m━━━━━━━━━━━━━━━━━━━━\u001b[0m\u001b[37m\u001b[0m \u001b[1m0s\u001b[0m 43ms/step - loss: 0.0053\n",
            "Epoch 84/100\n",
            "\u001b[1m1/1\u001b[0m \u001b[32m━━━━━━━━━━━━━━━━━━━━\u001b[0m\u001b[37m\u001b[0m \u001b[1m0s\u001b[0m 45ms/step - loss: 0.0042\n",
            "Epoch 85/100\n",
            "\u001b[1m1/1\u001b[0m \u001b[32m━━━━━━━━━━━━━━━━━━━━\u001b[0m\u001b[37m\u001b[0m \u001b[1m0s\u001b[0m 59ms/step - loss: 0.0052\n",
            "Epoch 86/100\n",
            "\u001b[1m1/1\u001b[0m \u001b[32m━━━━━━━━━━━━━━━━━━━━\u001b[0m\u001b[37m\u001b[0m \u001b[1m0s\u001b[0m 46ms/step - loss: 0.0039\n",
            "Epoch 87/100\n",
            "\u001b[1m1/1\u001b[0m \u001b[32m━━━━━━━━━━━━━━━━━━━━\u001b[0m\u001b[37m\u001b[0m \u001b[1m0s\u001b[0m 60ms/step - loss: 0.0020\n",
            "Epoch 88/100\n",
            "\u001b[1m1/1\u001b[0m \u001b[32m━━━━━━━━━━━━━━━━━━━━\u001b[0m\u001b[37m\u001b[0m \u001b[1m0s\u001b[0m 62ms/step - loss: 0.0030\n",
            "Epoch 89/100\n",
            "\u001b[1m1/1\u001b[0m \u001b[32m━━━━━━━━━━━━━━━━━━━━\u001b[0m\u001b[37m\u001b[0m \u001b[1m0s\u001b[0m 64ms/step - loss: 0.0045\n",
            "Epoch 90/100\n",
            "\u001b[1m1/1\u001b[0m \u001b[32m━━━━━━━━━━━━━━━━━━━━\u001b[0m\u001b[37m\u001b[0m \u001b[1m0s\u001b[0m 63ms/step - loss: 0.0027\n",
            "Epoch 91/100\n",
            "\u001b[1m1/1\u001b[0m \u001b[32m━━━━━━━━━━━━━━━━━━━━\u001b[0m\u001b[37m\u001b[0m \u001b[1m0s\u001b[0m 58ms/step - loss: 0.0033\n",
            "Epoch 92/100\n",
            "\u001b[1m1/1\u001b[0m \u001b[32m━━━━━━━━━━━━━━━━━━━━\u001b[0m\u001b[37m\u001b[0m \u001b[1m0s\u001b[0m 53ms/step - loss: 0.0012\n",
            "Epoch 93/100\n",
            "\u001b[1m1/1\u001b[0m \u001b[32m━━━━━━━━━━━━━━━━━━━━\u001b[0m\u001b[37m\u001b[0m \u001b[1m0s\u001b[0m 142ms/step - loss: 0.0016\n",
            "Epoch 94/100\n",
            "\u001b[1m1/1\u001b[0m \u001b[32m━━━━━━━━━━━━━━━━━━━━\u001b[0m\u001b[37m\u001b[0m \u001b[1m0s\u001b[0m 134ms/step - loss: 9.5983e-04\n",
            "Epoch 95/100\n",
            "\u001b[1m1/1\u001b[0m \u001b[32m━━━━━━━━━━━━━━━━━━━━\u001b[0m\u001b[37m\u001b[0m \u001b[1m0s\u001b[0m 60ms/step - loss: 0.0029\n",
            "Epoch 96/100\n",
            "\u001b[1m1/1\u001b[0m \u001b[32m━━━━━━━━━━━━━━━━━━━━\u001b[0m\u001b[37m\u001b[0m \u001b[1m0s\u001b[0m 54ms/step - loss: 0.0055\n",
            "Epoch 97/100\n",
            "\u001b[1m1/1\u001b[0m \u001b[32m━━━━━━━━━━━━━━━━━━━━\u001b[0m\u001b[37m\u001b[0m \u001b[1m0s\u001b[0m 59ms/step - loss: 0.0031\n",
            "Epoch 98/100\n",
            "\u001b[1m1/1\u001b[0m \u001b[32m━━━━━━━━━━━━━━━━━━━━\u001b[0m\u001b[37m\u001b[0m \u001b[1m0s\u001b[0m 51ms/step - loss: 0.0013\n",
            "Epoch 99/100\n",
            "\u001b[1m1/1\u001b[0m \u001b[32m━━━━━━━━━━━━━━━━━━━━\u001b[0m\u001b[37m\u001b[0m \u001b[1m0s\u001b[0m 64ms/step - loss: 0.0023\n",
            "Epoch 100/100\n",
            "\u001b[1m1/1\u001b[0m \u001b[32m━━━━━━━━━━━━━━━━━━━━\u001b[0m\u001b[37m\u001b[0m \u001b[1m0s\u001b[0m 63ms/step - loss: 0.0053\n",
            "Epoch 1/10\n",
            "\u001b[1m1/1\u001b[0m \u001b[32m━━━━━━━━━━━━━━━━━━━━\u001b[0m\u001b[37m\u001b[0m \u001b[1m1s\u001b[0m 818ms/step - loss: 5.5982e-04 - val_loss: 0.0084\n",
            "Epoch 2/10\n",
            "\u001b[1m1/1\u001b[0m \u001b[32m━━━━━━━━━━━━━━━━━━━━\u001b[0m\u001b[37m\u001b[0m \u001b[1m1s\u001b[0m 506ms/step - loss: 0.0061 - val_loss: 0.0080\n",
            "Epoch 3/10\n",
            "\u001b[1m1/1\u001b[0m \u001b[32m━━━━━━━━━━━━━━━━━━━━\u001b[0m\u001b[37m\u001b[0m \u001b[1m0s\u001b[0m 59ms/step - loss: 0.0019 - val_loss: 0.0080\n",
            "Epoch 4/10\n",
            "\u001b[1m1/1\u001b[0m \u001b[32m━━━━━━━━━━━━━━━━━━━━\u001b[0m\u001b[37m\u001b[0m \u001b[1m0s\u001b[0m 60ms/step - loss: 0.0030 - val_loss: 0.0080\n",
            "Epoch 5/10\n",
            "\u001b[1m1/1\u001b[0m \u001b[32m━━━━━━━━━━━━━━━━━━━━\u001b[0m\u001b[37m\u001b[0m \u001b[1m0s\u001b[0m 60ms/step - loss: 0.0013 - val_loss: 0.0082\n",
            "Epoch 6/10\n",
            "\u001b[1m1/1\u001b[0m \u001b[32m━━━━━━━━━━━━━━━━━━━━\u001b[0m\u001b[37m\u001b[0m \u001b[1m0s\u001b[0m 63ms/step - loss: 6.2279e-04 - val_loss: 0.0083\n",
            "Epoch 7/10\n",
            "\u001b[1m1/1\u001b[0m \u001b[32m━━━━━━━━━━━━━━━━━━━━\u001b[0m\u001b[37m\u001b[0m \u001b[1m0s\u001b[0m 60ms/step - loss: 6.2165e-04 - val_loss: 0.0085\n",
            "Epoch 8/10\n",
            "\u001b[1m1/1\u001b[0m \u001b[32m━━━━━━━━━━━━━━━━━━━━\u001b[0m\u001b[37m\u001b[0m \u001b[1m0s\u001b[0m 59ms/step - loss: 0.0027 - val_loss: 0.0080\n",
            "Epoch 9/10\n",
            "\u001b[1m1/1\u001b[0m \u001b[32m━━━━━━━━━━━━━━━━━━━━\u001b[0m\u001b[37m\u001b[0m \u001b[1m0s\u001b[0m 59ms/step - loss: 0.0019 - val_loss: 0.0077\n",
            "Epoch 10/10\n",
            "\u001b[1m1/1\u001b[0m \u001b[32m━━━━━━━━━━━━━━━━━━━━\u001b[0m\u001b[37m\u001b[0m \u001b[1m0s\u001b[0m 74ms/step - loss: 0.0093 - val_loss: 0.0079\n"
          ]
        }
      ]
    },
    {
      "cell_type": "code",
      "source": [
        "plt.figure(figsize=(10, 5))\n",
        "plt.plot(history.history['loss'])\n",
        "plt.plot(history.history['val_loss'])\n",
        "plt.title('Model loss')\n",
        "plt.ylabel('Loss')\n",
        "plt.xlabel('Epoch')\n",
        "plt.legend(['Train', 'Validation'], loc='upper right')\n",
        "plt.show()"
      ],
      "metadata": {
        "colab": {
          "base_uri": "https://localhost:8080/",
          "height": 487
        },
        "id": "W_82MLiHcime",
        "outputId": "0f2d6c4b-1d67-4380-d527-13da90fc7062"
      },
      "execution_count": null,
      "outputs": [
        {
          "output_type": "display_data",
          "data": {
            "text/plain": [
              "<Figure size 1000x500 with 1 Axes>"
            ],
            "image/png": "[encoded data removed]"
          },
          "metadata": {}
        }
      ]
    },
    {
      "cell_type": "code",
      "source": [
        "# Memprediksi data\n",
        "predicted_stunting = model.predict(X_test)\n",
        "predicted_stunting_original_scale = scaler.inverse_transform(predicted_stunting.reshape(-1, 1))"
      ],
      "metadata": {
        "colab": {
          "base_uri": "https://localhost:8080/"
        },
        "id": "sOb4WL6GcCBj",
        "outputId": "64b57fef-da04-49bd-eeea-95f7193f15eb"
      },
      "execution_count": null,
      "outputs": [
        {
          "output_type": "stream",
          "name": "stdout",
          "text": [
            "\u001b[1m1/1\u001b[0m \u001b[32m━━━━━━━━━━━━━━━━━━━━\u001b[0m\u001b[37m\u001b[0m \u001b[1m0s\u001b[0m 82ms/step\n"
          ]
        }
      ]
    },
    {
      "cell_type": "code",
      "source": [
        "# Memvisualisasikan hasil\n",
        "plt.figure(figsize=(14, 5))\n",
        "plt.plot(data[train_size + time_step:], color='blue', label='Data Aktual')\n",
        "plt.plot(np.arange(train_size + time_step, train_size + time_step + len(predicted_stunting)), predicted_stunting, color='red', label='Prediksi LSTM')\n",
        "plt.title('Prediksi Stunting Menggunakan LSTM')\n",
        "plt.xlabel('Waktu')\n",
        "plt.ylabel('Stunting')\n",
        "plt.legend()\n",
        "plt.show()"
      ],
      "metadata": {
        "colab": {
          "base_uri": "https://localhost:8080/",
          "height": 406
        },
        "id": "DztZlbkFcL2M",
        "outputId": "df5fed11-0d50-43d1-f6bb-229dbe1f4017"
      },
      "execution_count": null,
      "outputs": [
        {
          "output_type": "display_data",
          "data": {
            "text/plain": [
              "<Figure size 1400x500 with 1 Axes>"
            ],
            "image/png": "[encoded data removed]"
          },
          "metadata": {}
        }
      ]
    }
  ]
}